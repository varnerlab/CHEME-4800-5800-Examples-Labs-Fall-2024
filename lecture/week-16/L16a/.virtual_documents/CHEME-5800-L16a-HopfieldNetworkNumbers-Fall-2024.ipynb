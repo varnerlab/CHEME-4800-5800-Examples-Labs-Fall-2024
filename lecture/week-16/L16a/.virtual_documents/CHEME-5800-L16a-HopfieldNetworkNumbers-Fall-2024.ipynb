





include("Include.jl");


file_extension(file::String) = file[findlast(==('.'), file)+1:end];





number_of_training_examples = 30; # how many training examples of each number?
number_digit_array = range(0,length=10,step=1) |> collect; # numbers 0 ... 9
number_of_rows = 28; # number of rows in the image
number_of_cols = 28; # number of cols in the image
number_of_pixels = number_of_rows*number_of_cols; # how many pixels do we have in the image?
number_of_steps = 5000; # how many flips do we do?





training_image_dictionary = let
    training_image_dictionary = Dict{Int64, Array{Gray{N0f8},3}}();
    for i ∈ number_digit_array
        
        # create a set for this digit -
        image_digit_array = Array{Gray{N0f8},3}(undef, 28, 28, number_of_training_examples);
        files = readdir(joinpath(_PATH_TO_IMAGES,"$(i)")); 
        imagecount = 1;
        for fileindex ∈ 1:number_of_training_examples
            filename = files[fileindex];
            ext = file_extension(filename)
            if (ext == "jpg")
                image_digit_array[:,:,fileindex] = joinpath(_PATH_TO_IMAGES, "$(i)", filename) |> x-> FileIO.load(x);
                imagecount += 1
            end
        end
    
        # capture -
        training_image_dictionary[i] = image_digit_array
    end
    training_image_dictionary
end;





training_image_dataset = let
    training_image_dataset = Vector{Tuple{Vector{Float32}, OneHotVector{UInt32}}}()
    for i ∈ number_digit_array
        Y = onehot(i, number_digit_array);
        X = training_image_dictionary[i];
        
        for t ∈ 1:number_of_training_examples
            D = Array{Float32,1}(undef, 28*28);
            linearindex = 1;
            for row ∈ 1:28
                for col ∈ 1:28
                    D[linearindex] = X[row,col,t] |> x-> convert(Float32,x);
                    linearindex+=1;
                end
            end
    
            training_tuple = (D,Y);
            push!(training_image_dataset,training_tuple);
        end
    end
    training_image_dataset
end;





ŝ,example_image_index = let

    example_image_index = 42; # select an image from the training dataset 
    ŝ = Array{Int64,1}(undef, number_of_pixels);
    image = training_image_dataset[example_image_index][1];

    for i ∈ 1:number_of_pixels
        pixel = image[i] |> round;
        if pixel == 0.0
            ŝ[i] = -1;
        else
            ŝ[i] = 1;
        end
    end    
    ŝ,example_image_index
end;


ŝ





decode(ŝ) |> img -> Gray.(img)





W = ⊗(ŝ,ŝ) .|> Int32





b = let

    b = Array{Float32,1}(undef,number_of_pixels); # initialize some space
    L = -1.0; # lower bound
    U = 1.0; # upper bound

    # main
    for i ∈ 1:number_of_pixels
       f = rand();
        b[i] = f*U+(1-f)*L;
    end

    b
end;





sₒ = let

    sₒ = Array{Int32,1}(undef, number_of_pixels); # initialize some space
    θ = 0.60;

    for i ∈ 1:number_of_pixels
        if (rand() ≤ θ)
            sₒ[i] = -1;
        else
            sₒ[i] = 1;
        end
    end
    sₒ;
end;





decode(sₒ) |> img -> Gray.(img)





frames, energydictionary = let

    # initialize -
    frames = Dict{Int64, Array{Int32,1}}();
    energydictionary = Dict{Int64, Float32}();

    # setup -
    frames[0] = copy(sₒ); # copy the initial random state
    energydictionary[0] = energy(sₒ,W, b);

    s = copy(sₒ);
    for i ∈ 1:number_of_steps

        j = rand(1:number_of_pixels); # select a random pixel
        s[j] = sign(transpose(W[j,:])*s - b[j]);

        frames[i] = copy(s); # save a copy
        energydictionary[i] = energy(s,W, b);
    end
    

    frames, energydictionary
end;





let
    plot(energydictionary, lw=3,c=:navy)
    xlabel!("Step index (AU)", fontsize=18)
    ylabel!("Network configuration energy (AU)", fontsize=18)
end





let
    image_index_to_view = 1000;
    s = frames[image_index_to_view];
    decode(s) |> image -> Gray.(image)
end





K_max = 0.14*number_of_pixels



