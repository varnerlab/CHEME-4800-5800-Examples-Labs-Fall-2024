





include("Include.jl");


file_extension(file::String) = file[findlast(==('.'), file)+1:end];








number_of_training_examples = 3000;
number_digit_array = range(0,length=10,step=1) |> collect;
training_image_dictionary = Dict{Int64, Array{Gray{N0f8},3}}();
for i ∈ number_digit_array
    
    # create a set for this digit -
    image_digit_array = Array{Gray{N0f8},3}(undef, 28, 28, number_of_training_examples);
    files = readdir(joinpath(_PATH_TO_IMAGES,"$(i)")); 
    imagecount = 1;
    for fileindex ∈ 1:number_of_training_examples
        filename = files[fileindex];
        ext = file_extension(filename)
        if (ext == "jpg")
            image_digit_array[:,:,fileindex] = joinpath(_PATH_TO_IMAGES, "$(i)", filename) |> x-> FileIO.load(x);
            imagecount += 1
        end
    end

    # capture -
    training_image_dictionary[i] = image_digit_array
end





training_image_dataset = let
    training_image_dataset = Vector{Tuple{Vector{Float32}, OneHotVector{UInt32}}}()
    for i ∈ number_digit_array
        Y = onehot(i, number_digit_array);
        X = training_image_dictionary[i];
        
        for t ∈ 1:number_of_training_examples
            D = Array{Float32,1}(undef, 28*28);
            linearindex = 1;
            for row ∈ 1:28
                for col ∈ 1:28
                    D[linearindex] = X[row,col,t] |> x-> convert(Float32,x);
                    linearindex+=1;
                end
            end
    
            training_tuple = (D,Y);
            push!(training_image_dataset,training_tuple);
        end
    end
    training_image_dataset
end;





number_of_rows = 28; # how many rows in the image
number_of_cols = 28; # how many cols in the image
number_of_pixels = number_of_rows*number_of_cols; # how many pixels do we have?
number_of_simulation_steps = 20*number_of_pixels;





W = let

    # initalize -
    n = number_of_pixels;
    W = ones(n,n) .|> Float32; # initialize a n x n matrix of 1's

    # remove the diagonal
    for i ∈ 1:n
        W[i,i] = 0; # no self loops
    end

    # return -
    W;
end;


W





α = let

    n = number_of_pixels;
    L = -1.0;
    U = 1.0;
    α = Array{Float32,1}(undef, n); # each node has a bias

    for i ∈ 1:n
        θ = rand();
        α[i] = θ*U + (1-θ)*L;
    end
    
    # return -
    α;
end;





true_state = let

    # select a training image -
    training_image = training_image_dataset[120][1]
    s = Array{Int32,1}(undef, number_of_pixels);

    for i ∈ 1:number_of_pixels
        s[i] = training_image[i] == 0.0 ? -1 : 1
    end
    

    s
end;


training_image_dictionary[0][:,:,120] # this is the TRUE image





W = ⊗(true_state,(transpose(true_state) |> vec));





simulation_state = let

    # generate a *random* initial configuration -
    s = Array{Int32,1}(undef, number_of_pixels);
    for i ∈ 1:number_of_pixels
        if (rand() ≤ 0.5)
            s[i] = -1;
        else
            s[i] = 1;
        end
    end

    for i ∈ 1:number_of_simulation_steps

        j = rand(1:number_of_pixels); # generate a random index
        tmp = 0.0;
        for k ∈ 1:number_of_pixels
            tmp += W[j,k]*s[k];
        end
        s[j] = sign(tmp - α[j]);
    end

    s;
end;


simulation_state





reconstructed_image = let

    reconstructed_image = Array{Int32,2}(undef, number_of_rows, number_of_cols);
    linearindex = 1;
    for row ∈ 1:28
        for col ∈ 1:28

            s = simulation_state[linearindex];
            if (s == -1)
                reconstructed_image[row,col] = 0;
            else
                reconstructed_image[row,col] = 1;
            end
            linearindex+=1;
        end
    end
    
    reconstructed_image
end


Gray.(reconstructed_image)



