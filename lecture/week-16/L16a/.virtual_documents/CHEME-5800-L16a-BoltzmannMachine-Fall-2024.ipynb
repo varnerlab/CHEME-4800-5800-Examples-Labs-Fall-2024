





include("Include.jl");


file_extension(file::String) = file[findlast(==('.'), file)+1:end];








number_of_rows = 28; # how many rows in the image
number_of_cols = 28; # how many cols in the image
number_of_pixels = number_of_rows*number_of_cols; # how many pixels do we have?
number_of_training_examples = 30; # how many training example for each image
true_image_index = 67; # what index of image do we want? (blocks of thirty starting at approx 10)
number_of_simulation_steps = 6000; # how many flips do we do?





training_image_dictionary = let
    number_digit_array = range(0,length=10,step=1) |> collect;
    training_image_dictionary = Dict{Int64, Array{Gray{N0f8},3}}();
    for i ∈ number_digit_array
        
        # create a set for this digit -
        image_digit_array = Array{Gray{N0f8},3}(undef, 28, 28, number_of_training_examples);
        files = readdir(joinpath(_PATH_TO_IMAGES,"$(i)")); 
        imagecount = 1;
        for fileindex ∈ 1:number_of_training_examples
            filename = files[fileindex];
            ext = file_extension(filename)
            if (ext == "jpg")
                image_digit_array[:,:,fileindex] = joinpath(_PATH_TO_IMAGES, "$(i)", filename) |> x-> FileIO.load(x);
                imagecount += 1
            end
        end
    
        # capture -
        training_image_dictionary[i] = image_digit_array
    end
    training_image_dictionary;
end;





training_image_dataset = let
    number_digit_array = range(0,length=10,step=1) |> collect;
    training_image_dataset = Vector{Tuple{Vector{Float32}, OneHotVector{UInt32}}}()
    for i ∈ number_digit_array
        Y = onehot(i, number_digit_array);
        X = training_image_dictionary[i];
        
        for t ∈ 1:number_of_training_examples
            D = Array{Float32,1}(undef, 28*28);
            linearindex = 1;
            for row ∈ 1:28
                for col ∈ 1:28
                    D[linearindex] = X[row,col,t] |> x-> convert(Float32,x);
                    linearindex+=1;
                end
            end
    
            training_tuple = (D,Y);
            push!(training_image_dataset,training_tuple);
        end
    end
    training_image_dataset
end;





W = let

    # initalize -
    n = number_of_pixels;
    W = ones(n,n) .|> Int32; # initialize a n x n matrix of 1's

    # remove the diagonal
    for i ∈ 1:n
        W[i,i] = 0; # no self loops
    end

    # return -
    W;
end;





α = let

    n = number_of_pixels;
    L = -1.0;
    U = 1.0;
    α = Array{Float32,1}(undef, n); # each node has a bias

    for i ∈ 1:n
        θ = rand();
        α[i] = θ*U + (1-θ)*L;
    end
    
    # return -
    α;
end;





ŝ = let

    # select a training image -
    training_image = training_image_dataset[true_image_index][1]
    s = Array{Int32,1}(undef, number_of_pixels);

    for i ∈ 1:number_of_pixels
        s[i] = (training_image[i] |> round) == 0.0 ? -1 : 1
    end
    
    s
end;





energy(ŝ,W,α)





decode(ŝ) |> img-> Gray.(img)





W = ⊗(ŝ,(transpose(ŝ) |> vec));








sₒ = let
    
    # generate a *random* initial configuration -
    s = Array{Int32,1}(undef, number_of_pixels);
    for i ∈ 1:number_of_pixels
        if (rand() ≤ 0.8)
            s[i] = -1;
        else
            s[i] = 1;
        end
    end
    s;
end;


energy(sₒ,W,α)


decode(sₒ) |> img -> Gray.(img)





simulation_dictionary, energy_dictionary = let

    # initialize -
    s = copy(sₒ); # start from the random state
    simulation_dictionary = Dict{Int64, Array{Int32,1}}();
    simulation_dictionary[0] = sₒ;
    energy_dictionary = Dict{Int64,Float32}();
    energy_dictionary[0] = energy(s,W,α);
    
    # main simulation loop -
    for i ∈ 1:number_of_simulation_steps

        j = rand(1:number_of_pixels);
        tmp = 0.0;
        for k ∈ 1:number_of_pixels
            tmp += W[j,k]*s[k];
        end
        s[j] = sign(tmp - α[j]);
        simulation_dictionary[i] = copy(s);
        energy_dictionary[i] = energy(s,W,α);
    end

    simulation_dictionary,energy_dictionary;
end;


let
    plot(energy_dictionary, lw=2, c=:navy, label="")
    xlabel!("Configuration index (AU)", fontsize=18);
    ylabel!("Error(c) (AU)", fontsize=18)
end





let
    steptovisualize = 3002;
    decode(simulation_dictionary[steptovisualize]) |> img -> Gray.(img)
end





decode(ŝ) |> img-> Gray.(img)





let
    steptovisualize = 6000;
    s = simulation_dictionary[steptovisualize];
    energy(s,W,α)
end





s = simulation_dictionary[3000];
r = Hamming()(s,ŝ)
