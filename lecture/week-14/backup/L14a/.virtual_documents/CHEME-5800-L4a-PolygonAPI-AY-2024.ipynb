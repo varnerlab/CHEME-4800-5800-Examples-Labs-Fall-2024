





include("Include.jl");





configuration = TOML.parsefile(joinpath(_PATH_TO_CONFIG, "Configuration.toml"));





baseurl = configuration["connection"]["baseurl"]; # this is short-hand, what is going on?
apikey = configuration["connection"]["apikey"];








model = build(MyPolygonStocksAggregatesEndpointModel, (
            apikey = apikey, 
            stocksTicker = "AMD", # let's pick something
            multiplier = 1, 
            timespan = "minute", # we can change the time value; see the API documentation
            from = Date(2024,01,12), # start data
            to = Date(2024,01,12), # end date
            adjusted = true, 
            sort = "asc", 
            limit = 5000 # max number of records to return
    ));





endpoint_url = build(baseurl, model)





data = MyPolygonStocksAggregatesEndpointModel(endpoint_url)





plot(data[:,:vw], lw=3, label="VWAP")
plot!(data[:,:o], lw=3, label="open")
plot!(data[:,:c], lw=3, label="close")
xlabel!("Trading period index", fontsize = 18)
ylabel!("Share price (USD/share)", fontsize = 18)



