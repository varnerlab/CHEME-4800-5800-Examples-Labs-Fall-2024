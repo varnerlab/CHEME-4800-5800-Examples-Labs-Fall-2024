{
 "cells": [
  {
   "cell_type": "markdown",
   "id": "d0bf1d7c-6367-46d6-b4bf-238ffaa61b5d",
   "metadata": {},
   "source": [
    "# Example: Software Development Kit for the National Weather Service API\n",
    "In this example, students will build a Software Development Kit (SDK) for the [National Weather Service API](https://www.weather.gov/documentation/services-web-api). We'll pull down weather data for Ithaca, NY, using the `(latitude, longitude)` coordinates `42.443961` and `-76.501881`. We'll use [the `points` endpoint](https://www.weather.gov/documentation/services-web-api#/default/point) to get the grid data for this location and use this data for additional calls. \n",
    "* In addition to demonstrating how to call an Application Programming Interface (API), the code that backs this example has some interesting design choices. Let's check them out!"
   ]
  },
  {
   "cell_type": "markdown",
   "id": "860c552a-841d-4e39-ba6f-3d3437ccdeaf",
   "metadata": {},
   "source": [
    "## Setup\n",
    "This example requires several external libraries and a function to compute the outer product. Let's download and install these packages and call our `Include.jl` file."
   ]
  },
  {
   "cell_type": "code",
   "execution_count": 3,
   "id": "d636a854-0990-49e6-977b-b8881f39c73d",
   "metadata": {},
   "outputs": [],
   "source": [
    "include(\"Include.jl\");"
   ]
  },
  {
   "cell_type": "markdown",
   "id": "ffbf3764-d135-429a-9761-5ca7644a792d",
   "metadata": {},
   "source": [
    "## Prerequisites \n",
    "Let's set some constants that we'll use later in the example. See the comments next to the constant for a description of what it is, permissible values, units, etc."
   ]
  },
  {
   "cell_type": "code",
   "execution_count": 5,
   "id": "b768286b-359a-4a65-8644-fe69136f2600",
   "metadata": {},
   "outputs": [],
   "source": [
    "latitude = 42.443962; # latitude value for Ithaca, NY (change this for your target location)\n",
    "longitude = -76.501884; # longitude value for Ithaca, NY (change this for your target location)"
   ]
  },
  {
   "cell_type": "markdown",
   "id": "c8bd05a1-0159-44ac-b4c9-4cd62fea98dc",
   "metadata": {},
   "source": [
    "## Task 1: Build a GridPoint Endpoint Model, Call the Weather API\n",
    "In this task, we'll build a model of the Endpoint call we want to do and then call the Weather API to get raw data back for the weather in Ithaca, NY (or another specified target location).\n",
    "\n",
    "First, let's build [a `MyWeatherGridPointEndpointModel` instance](src/Types.jl) by passing in the `(latitude, longitude)` data as keyword arguments to the constructor method. [The `points` endpoint](https://www.weather.gov/documentation/services-web-api#/default/point) returns metadata about a given latitude/longitude point."
   ]
  },
  {
   "cell_type": "code",
   "execution_count": 7,
   "id": "3e474982-9e12-403b-8e9c-56f67ae9eb5f",
   "metadata": {},
   "outputs": [],
   "source": [
    "model = MyWeatherGridPointEndpointModel(latitude = latitude, longitude = longitude);"
   ]
  },
  {
   "cell_type": "markdown",
   "id": "d95b359b-36e1-4411-aad1-fe5ac8b27be3",
   "metadata": {},
   "source": [
    "Next, let's set up [the Uniform Resource Locator (URL) string](https://en.wikipedia.org/wiki/Query_string), which we will call using [a custom `build(...)` method](src/Factory.jl). This `URL` string will encode the resource we want (endpoint) and how to access it (protocol). We save the weather service `URL` in the `points_url_string::String` variable:"
   ]
  },
  {
   "cell_type": "code",
   "execution_count": 9,
   "id": "16d453bf-95cd-4765-b23a-ad9a9b6651e1",
   "metadata": {},
   "outputs": [
    {
     "data": {
      "text/plain": [
       "\"https://api.weather.gov/points/42.443962,-76.501884\""
      ]
     },
     "execution_count": 9,
     "metadata": {},
     "output_type": "execute_result"
    }
   ],
   "source": [
    "points_url_string = build(\"https://api.weather.gov\", model)"
   ]
  },
  {
   "cell_type": "markdown",
   "id": "def46a72-5dfc-4454-877d-65ccad5be1c3",
   "metadata": {},
   "source": [
    "Now, let's make our first call! Notice the `syntax sugar` we used to make it look like our endpoint model is a function. \n",
    "* __What is happening behind the scenes__? In the background, we create [an anonymous function](https://docs.julialang.org/en/v1/manual/functions/#man-anonymous-functions) that maps the `model::MyWeatherGridPointEndpointModel` instance, and the `points_url_string::String` variable to a private function, which makes the network call, and returns the data.\n",
    "\n",
    "We store the data returned from the API call in the `result_points::Dict{String, Any}` variable:"
   ]
  },
  {
   "cell_type": "code",
   "execution_count": 11,
   "id": "64887be8-3b27-486d-99ef-a0d60cfe5d09",
   "metadata": {},
   "outputs": [],
   "source": [
    "result_points = MyWeatherGridPointEndpointModel(points_url_string);"
   ]
  },
  {
   "cell_type": "code",
   "execution_count": 12,
   "id": "e8c97e32-fe92-4715-bd3e-3159fb45476d",
   "metadata": {},
   "outputs": [
    {
     "data": {
      "text/plain": [
       "Dict{String, Any} with 5 entries:\n",
       "  \"@context\"   => Any[\"https://geojson.org/geojson-ld/geojson-context.jsonld\", …\n",
       "  \"geometry\"   => Dict{String, Any}(\"coordinates\"=>Any[-76.5019, 42.444], \"type…\n",
       "  \"id\"         => \"https://api.weather.gov/points/42.444,-76.5019\"\n",
       "  \"properties\" => Dict{String, Any}(\"county\"=>\"https://api.weather.gov/zones/co…\n",
       "  \"type\"       => \"Feature\""
      ]
     },
     "execution_count": 12,
     "metadata": {},
     "output_type": "execute_result"
    }
   ],
   "source": [
    "result_points"
   ]
  },
  {
   "cell_type": "markdown",
   "id": "f1cbd7c7-036e-4ca4-9512-b32e03aa9a3a",
   "metadata": {},
   "source": [
    "In the [National Weather Service API](https://www.weather.gov/documentation/services-web-api), the `URL` to get access to the forecast data comes back from the `endpoint` call, so we can grab it and store it in the `forecast_url::String` variable.\n",
    "* __Is this normal__? No, this is strange because the fully formed forecast `URL` is returned directly. Usually, we'd need to get some intermediate data from the `endpoint` call and then package it in the `URL` string ourselves. However, each API is unique in design."
   ]
  },
  {
   "cell_type": "code",
   "execution_count": 14,
   "id": "a107dfca-31b1-4776-9fad-a504e31afb3b",
   "metadata": {},
   "outputs": [
    {
     "data": {
      "text/plain": [
       "\"https://api.weather.gov/gridpoints/BGM/44,70/forecast/hourly\""
      ]
     },
     "execution_count": 14,
     "metadata": {},
     "output_type": "execute_result"
    }
   ],
   "source": [
    "forecast_url = result_points[\"properties\"][\"forecastHourly\"]"
   ]
  },
  {
   "cell_type": "markdown",
   "id": "6ad7bf87-97d9-43c5-a4f2-ab41e90c222d",
   "metadata": {},
   "source": [
    "Finally, we have [the URL](https://en.wikipedia.org/wiki/Query_string), allowing us to get the weather forecast for Ithaca, NY. Let's call the [Weather Service API](https://www.weather.gov/documentation/services-web-api) again with the `forecast_url::String` and look at what comes back from the API:"
   ]
  },
  {
   "cell_type": "code",
   "execution_count": 16,
   "id": "79362372-397f-465c-b407-0195a1e5c6fb",
   "metadata": {},
   "outputs": [
    {
     "data": {
      "text/plain": [
       "Dict{String, Any} with 4 entries:\n",
       "  \"@context\"   => Any[\"https://geojson.org/geojson-ld/geojson-context.jsonld\", …\n",
       "  \"geometry\"   => Dict{String, Any}(\"coordinates\"=>Any[Any[Any[-76.5195, 42.457…\n",
       "  \"properties\" => Dict{String, Any}(\"units\"=>\"us\", \"generatedAt\"=>\"2024-11-25T1…\n",
       "  \"type\"       => \"Feature\""
      ]
     },
     "execution_count": 16,
     "metadata": {},
     "output_type": "execute_result"
    }
   ],
   "source": [
    "result_forecast = MyWeatherForecastEndpointModel(forecast_url) # notice the pattern - check out the code to see what is going on"
   ]
  },
  {
   "cell_type": "markdown",
   "id": "debca7e7-f160-433e-8eff-27694addb05b",
   "metadata": {},
   "source": [
    "## Task 2: Let's do a better job an handling the forecast data coming back\n",
    "In this task, we'll demonstrate a handler pattern in which the raw data from the API is processed __before__ being presented to the caller. \n",
    "* __Why would we do this?__ We use a handler pattern if we want the data from the API to be in a more convenient form, for example [as a DataFrame instance](https://dataframes.juliadata.org/stable/), or we want to manipulate or process the data in some way. Ultimately, using this pattern makes our lives easier when using the API data.\n",
    "\n",
    "Hmmm. Notice that syntactic sugar pattern again. However, this time we pass in both a `URL` string and a custom handler function. How does that work?"
   ]
  },
  {
   "cell_type": "code",
   "execution_count": 34,
   "id": "efc03340-141c-4aa8-bbfa-6687b4b3d5d6",
   "metadata": {},
   "outputs": [],
   "source": [
    "result_forecast = MyWeatherForecastEndpointModel(forecast_url, handler = process_forecast_response_dataframe); # Hmmm. let's check this out"
   ]
  },
  {
   "cell_type": "code",
   "execution_count": 19,
   "id": "dc9fbb1d-7838-4a00-abcb-525e81abe00c",
   "metadata": {},
   "outputs": [
    {
     "data": {
      "text/html": [
       "<div><div style = \"float: left;\"><span>156×8 DataFrame</span></div><div style = \"float: right;\"><span style = \"font-style: italic;\">131 rows omitted</span></div><div style = \"clear: both;\"></div></div><div class = \"data-frame\" style = \"overflow-x: scroll;\"><table class = \"data-frame\" style = \"margin-bottom: 6px;\"><thead><tr class = \"header\"><th class = \"rowNumber\" style = \"font-weight: bold; text-align: right;\">Row</th><th style = \"text-align: left;\">startTime</th><th style = \"text-align: left;\">endTime</th><th style = \"text-align: left;\">isDayTime</th><th style = \"text-align: left;\">temperature</th><th style = \"text-align: left;\">temperatureUnit</th><th style = \"text-align: left;\">windSpeed</th><th style = \"text-align: left;\">windDirection</th><th style = \"text-align: left;\">shortForecast</th></tr><tr class = \"subheader headerLastRow\"><th class = \"rowNumber\" style = \"font-weight: bold; text-align: right;\"></th><th title = \"String\" style = \"text-align: left;\">String</th><th title = \"String\" style = \"text-align: left;\">String</th><th title = \"Bool\" style = \"text-align: left;\">Bool</th><th title = \"Int64\" style = \"text-align: left;\">Int64</th><th title = \"String\" style = \"text-align: left;\">String</th><th title = \"String\" style = \"text-align: left;\">String</th><th title = \"String\" style = \"text-align: left;\">String</th><th title = \"String\" style = \"text-align: left;\">String</th></tr></thead><tbody><tr><td class = \"rowNumber\" style = \"font-weight: bold; text-align: right;\">1</td><td style = \"text-align: left;\">2024-11-25T05:00:00-05:00</td><td style = \"text-align: left;\">2024-11-25T06:00:00-05:00</td><td style = \"text-align: right;\">false</td><td style = \"text-align: right;\">34</td><td style = \"text-align: left;\">F</td><td style = \"text-align: left;\">2 mph</td><td style = \"text-align: left;\">NW</td><td style = \"text-align: left;\">Mostly Cloudy</td></tr><tr><td class = \"rowNumber\" style = \"font-weight: bold; text-align: right;\">2</td><td style = \"text-align: left;\">2024-11-25T06:00:00-05:00</td><td style = \"text-align: left;\">2024-11-25T07:00:00-05:00</td><td style = \"text-align: right;\">true</td><td style = \"text-align: right;\">34</td><td style = \"text-align: left;\">F</td><td style = \"text-align: left;\">1 mph</td><td style = \"text-align: left;\">W</td><td style = \"text-align: left;\">Mostly Cloudy</td></tr><tr><td class = \"rowNumber\" style = \"font-weight: bold; text-align: right;\">3</td><td style = \"text-align: left;\">2024-11-25T07:00:00-05:00</td><td style = \"text-align: left;\">2024-11-25T08:00:00-05:00</td><td style = \"text-align: right;\">true</td><td style = \"text-align: right;\">33</td><td style = \"text-align: left;\">F</td><td style = \"text-align: left;\">1 mph</td><td style = \"text-align: left;\">W</td><td style = \"text-align: left;\">Partly Sunny</td></tr><tr><td class = \"rowNumber\" style = \"font-weight: bold; text-align: right;\">4</td><td style = \"text-align: left;\">2024-11-25T08:00:00-05:00</td><td style = \"text-align: left;\">2024-11-25T09:00:00-05:00</td><td style = \"text-align: right;\">true</td><td style = \"text-align: right;\">35</td><td style = \"text-align: left;\">F</td><td style = \"text-align: left;\">2 mph</td><td style = \"text-align: left;\">W</td><td style = \"text-align: left;\">Partly Sunny</td></tr><tr><td class = \"rowNumber\" style = \"font-weight: bold; text-align: right;\">5</td><td style = \"text-align: left;\">2024-11-25T09:00:00-05:00</td><td style = \"text-align: left;\">2024-11-25T10:00:00-05:00</td><td style = \"text-align: right;\">true</td><td style = \"text-align: right;\">38</td><td style = \"text-align: left;\">F</td><td style = \"text-align: left;\">1 mph</td><td style = \"text-align: left;\">W</td><td style = \"text-align: left;\">Mostly Sunny</td></tr><tr><td class = \"rowNumber\" style = \"font-weight: bold; text-align: right;\">6</td><td style = \"text-align: left;\">2024-11-25T10:00:00-05:00</td><td style = \"text-align: left;\">2024-11-25T11:00:00-05:00</td><td style = \"text-align: right;\">true</td><td style = \"text-align: right;\">40</td><td style = \"text-align: left;\">F</td><td style = \"text-align: left;\">1 mph</td><td style = \"text-align: left;\">SW</td><td style = \"text-align: left;\">Mostly Sunny</td></tr><tr><td class = \"rowNumber\" style = \"font-weight: bold; text-align: right;\">7</td><td style = \"text-align: left;\">2024-11-25T11:00:00-05:00</td><td style = \"text-align: left;\">2024-11-25T12:00:00-05:00</td><td style = \"text-align: right;\">true</td><td style = \"text-align: right;\">43</td><td style = \"text-align: left;\">F</td><td style = \"text-align: left;\">1 mph</td><td style = \"text-align: left;\">S</td><td style = \"text-align: left;\">Mostly Sunny</td></tr><tr><td class = \"rowNumber\" style = \"font-weight: bold; text-align: right;\">8</td><td style = \"text-align: left;\">2024-11-25T12:00:00-05:00</td><td style = \"text-align: left;\">2024-11-25T13:00:00-05:00</td><td style = \"text-align: right;\">true</td><td style = \"text-align: right;\">45</td><td style = \"text-align: left;\">F</td><td style = \"text-align: left;\">2 mph</td><td style = \"text-align: left;\">S</td><td style = \"text-align: left;\">Mostly Sunny</td></tr><tr><td class = \"rowNumber\" style = \"font-weight: bold; text-align: right;\">9</td><td style = \"text-align: left;\">2024-11-25T13:00:00-05:00</td><td style = \"text-align: left;\">2024-11-25T14:00:00-05:00</td><td style = \"text-align: right;\">true</td><td style = \"text-align: right;\">46</td><td style = \"text-align: left;\">F</td><td style = \"text-align: left;\">2 mph</td><td style = \"text-align: left;\">SE</td><td style = \"text-align: left;\">Partly Sunny</td></tr><tr><td class = \"rowNumber\" style = \"font-weight: bold; text-align: right;\">10</td><td style = \"text-align: left;\">2024-11-25T14:00:00-05:00</td><td style = \"text-align: left;\">2024-11-25T15:00:00-05:00</td><td style = \"text-align: right;\">true</td><td style = \"text-align: right;\">47</td><td style = \"text-align: left;\">F</td><td style = \"text-align: left;\">3 mph</td><td style = \"text-align: left;\">SE</td><td style = \"text-align: left;\">Partly Sunny</td></tr><tr><td class = \"rowNumber\" style = \"font-weight: bold; text-align: right;\">11</td><td style = \"text-align: left;\">2024-11-25T15:00:00-05:00</td><td style = \"text-align: left;\">2024-11-25T16:00:00-05:00</td><td style = \"text-align: right;\">true</td><td style = \"text-align: right;\">47</td><td style = \"text-align: left;\">F</td><td style = \"text-align: left;\">3 mph</td><td style = \"text-align: left;\">SE</td><td style = \"text-align: left;\">Partly Sunny</td></tr><tr><td class = \"rowNumber\" style = \"font-weight: bold; text-align: right;\">12</td><td style = \"text-align: left;\">2024-11-25T16:00:00-05:00</td><td style = \"text-align: left;\">2024-11-25T17:00:00-05:00</td><td style = \"text-align: right;\">true</td><td style = \"text-align: right;\">46</td><td style = \"text-align: left;\">F</td><td style = \"text-align: left;\">3 mph</td><td style = \"text-align: left;\">SE</td><td style = \"text-align: left;\">Partly Sunny</td></tr><tr><td class = \"rowNumber\" style = \"font-weight: bold; text-align: right;\">13</td><td style = \"text-align: left;\">2024-11-25T17:00:00-05:00</td><td style = \"text-align: left;\">2024-11-25T18:00:00-05:00</td><td style = \"text-align: right;\">true</td><td style = \"text-align: right;\">45</td><td style = \"text-align: left;\">F</td><td style = \"text-align: left;\">2 mph</td><td style = \"text-align: left;\">SE</td><td style = \"text-align: left;\">Mostly Cloudy</td></tr><tr><td style = \"text-align: right;\">&vellip;</td><td style = \"text-align: right;\">&vellip;</td><td style = \"text-align: right;\">&vellip;</td><td style = \"text-align: right;\">&vellip;</td><td style = \"text-align: right;\">&vellip;</td><td style = \"text-align: right;\">&vellip;</td><td style = \"text-align: right;\">&vellip;</td><td style = \"text-align: right;\">&vellip;</td><td style = \"text-align: right;\">&vellip;</td></tr><tr><td class = \"rowNumber\" style = \"font-weight: bold; text-align: right;\">145</td><td style = \"text-align: left;\">2024-12-01T05:00:00-05:00</td><td style = \"text-align: left;\">2024-12-01T06:00:00-05:00</td><td style = \"text-align: right;\">false</td><td style = \"text-align: right;\">25</td><td style = \"text-align: left;\">F</td><td style = \"text-align: left;\">7 mph</td><td style = \"text-align: left;\">W</td><td style = \"text-align: left;\">Chance Light Snow</td></tr><tr><td class = \"rowNumber\" style = \"font-weight: bold; text-align: right;\">146</td><td style = \"text-align: left;\">2024-12-01T06:00:00-05:00</td><td style = \"text-align: left;\">2024-12-01T07:00:00-05:00</td><td style = \"text-align: right;\">true</td><td style = \"text-align: right;\">25</td><td style = \"text-align: left;\">F</td><td style = \"text-align: left;\">7 mph</td><td style = \"text-align: left;\">W</td><td style = \"text-align: left;\">Chance Light Snow</td></tr><tr><td class = \"rowNumber\" style = \"font-weight: bold; text-align: right;\">147</td><td style = \"text-align: left;\">2024-12-01T07:00:00-05:00</td><td style = \"text-align: left;\">2024-12-01T08:00:00-05:00</td><td style = \"text-align: right;\">true</td><td style = \"text-align: right;\">24</td><td style = \"text-align: left;\">F</td><td style = \"text-align: left;\">7 mph</td><td style = \"text-align: left;\">W</td><td style = \"text-align: left;\">Chance Light Snow</td></tr><tr><td class = \"rowNumber\" style = \"font-weight: bold; text-align: right;\">148</td><td style = \"text-align: left;\">2024-12-01T08:00:00-05:00</td><td style = \"text-align: left;\">2024-12-01T09:00:00-05:00</td><td style = \"text-align: right;\">true</td><td style = \"text-align: right;\">26</td><td style = \"text-align: left;\">F</td><td style = \"text-align: left;\">8 mph</td><td style = \"text-align: left;\">W</td><td style = \"text-align: left;\">Chance Light Snow</td></tr><tr><td class = \"rowNumber\" style = \"font-weight: bold; text-align: right;\">149</td><td style = \"text-align: left;\">2024-12-01T09:00:00-05:00</td><td style = \"text-align: left;\">2024-12-01T10:00:00-05:00</td><td style = \"text-align: right;\">true</td><td style = \"text-align: right;\">29</td><td style = \"text-align: left;\">F</td><td style = \"text-align: left;\">9 mph</td><td style = \"text-align: left;\">W</td><td style = \"text-align: left;\">Chance Light Snow</td></tr><tr><td class = \"rowNumber\" style = \"font-weight: bold; text-align: right;\">150</td><td style = \"text-align: left;\">2024-12-01T10:00:00-05:00</td><td style = \"text-align: left;\">2024-12-01T11:00:00-05:00</td><td style = \"text-align: right;\">true</td><td style = \"text-align: right;\">31</td><td style = \"text-align: left;\">F</td><td style = \"text-align: left;\">10 mph</td><td style = \"text-align: left;\">W</td><td style = \"text-align: left;\">Chance Light Snow</td></tr><tr><td class = \"rowNumber\" style = \"font-weight: bold; text-align: right;\">151</td><td style = \"text-align: left;\">2024-12-01T11:00:00-05:00</td><td style = \"text-align: left;\">2024-12-01T12:00:00-05:00</td><td style = \"text-align: right;\">true</td><td style = \"text-align: right;\">33</td><td style = \"text-align: left;\">F</td><td style = \"text-align: left;\">10 mph</td><td style = \"text-align: left;\">W</td><td style = \"text-align: left;\">Chance Light Snow</td></tr><tr><td class = \"rowNumber\" style = \"font-weight: bold; text-align: right;\">152</td><td style = \"text-align: left;\">2024-12-01T12:00:00-05:00</td><td style = \"text-align: left;\">2024-12-01T13:00:00-05:00</td><td style = \"text-align: right;\">true</td><td style = \"text-align: right;\">34</td><td style = \"text-align: left;\">F</td><td style = \"text-align: left;\">10 mph</td><td style = \"text-align: left;\">W</td><td style = \"text-align: left;\">Chance Light Snow</td></tr><tr><td class = \"rowNumber\" style = \"font-weight: bold; text-align: right;\">153</td><td style = \"text-align: left;\">2024-12-01T13:00:00-05:00</td><td style = \"text-align: left;\">2024-12-01T14:00:00-05:00</td><td style = \"text-align: right;\">true</td><td style = \"text-align: right;\">34</td><td style = \"text-align: left;\">F</td><td style = \"text-align: left;\">10 mph</td><td style = \"text-align: left;\">W</td><td style = \"text-align: left;\">Light Snow Likely</td></tr><tr><td class = \"rowNumber\" style = \"font-weight: bold; text-align: right;\">154</td><td style = \"text-align: left;\">2024-12-01T14:00:00-05:00</td><td style = \"text-align: left;\">2024-12-01T15:00:00-05:00</td><td style = \"text-align: right;\">true</td><td style = \"text-align: right;\">34</td><td style = \"text-align: left;\">F</td><td style = \"text-align: left;\">10 mph</td><td style = \"text-align: left;\">W</td><td style = \"text-align: left;\">Light Snow Likely</td></tr><tr><td class = \"rowNumber\" style = \"font-weight: bold; text-align: right;\">155</td><td style = \"text-align: left;\">2024-12-01T15:00:00-05:00</td><td style = \"text-align: left;\">2024-12-01T16:00:00-05:00</td><td style = \"text-align: right;\">true</td><td style = \"text-align: right;\">34</td><td style = \"text-align: left;\">F</td><td style = \"text-align: left;\">10 mph</td><td style = \"text-align: left;\">W</td><td style = \"text-align: left;\">Light Snow Likely</td></tr><tr><td class = \"rowNumber\" style = \"font-weight: bold; text-align: right;\">156</td><td style = \"text-align: left;\">2024-12-01T16:00:00-05:00</td><td style = \"text-align: left;\">2024-12-01T17:00:00-05:00</td><td style = \"text-align: right;\">true</td><td style = \"text-align: right;\">34</td><td style = \"text-align: left;\">F</td><td style = \"text-align: left;\">10 mph</td><td style = \"text-align: left;\">W</td><td style = \"text-align: left;\">Light Snow Likely</td></tr></tbody></table></div>"
      ],
      "text/latex": [
       "\\begin{tabular}{r|cccccc}\n",
       "\t& startTime & endTime & isDayTime & temperature & temperatureUnit & \\\\\n",
       "\t\\hline\n",
       "\t& String & String & Bool & Int64 & String & \\\\\n",
       "\t\\hline\n",
       "\t1 & 2024-11-25T05:00:00-05:00 & 2024-11-25T06:00:00-05:00 & 0 & 34 & F & $\\dots$ \\\\\n",
       "\t2 & 2024-11-25T06:00:00-05:00 & 2024-11-25T07:00:00-05:00 & 1 & 34 & F & $\\dots$ \\\\\n",
       "\t3 & 2024-11-25T07:00:00-05:00 & 2024-11-25T08:00:00-05:00 & 1 & 33 & F & $\\dots$ \\\\\n",
       "\t4 & 2024-11-25T08:00:00-05:00 & 2024-11-25T09:00:00-05:00 & 1 & 35 & F & $\\dots$ \\\\\n",
       "\t5 & 2024-11-25T09:00:00-05:00 & 2024-11-25T10:00:00-05:00 & 1 & 38 & F & $\\dots$ \\\\\n",
       "\t6 & 2024-11-25T10:00:00-05:00 & 2024-11-25T11:00:00-05:00 & 1 & 40 & F & $\\dots$ \\\\\n",
       "\t7 & 2024-11-25T11:00:00-05:00 & 2024-11-25T12:00:00-05:00 & 1 & 43 & F & $\\dots$ \\\\\n",
       "\t8 & 2024-11-25T12:00:00-05:00 & 2024-11-25T13:00:00-05:00 & 1 & 45 & F & $\\dots$ \\\\\n",
       "\t9 & 2024-11-25T13:00:00-05:00 & 2024-11-25T14:00:00-05:00 & 1 & 46 & F & $\\dots$ \\\\\n",
       "\t10 & 2024-11-25T14:00:00-05:00 & 2024-11-25T15:00:00-05:00 & 1 & 47 & F & $\\dots$ \\\\\n",
       "\t11 & 2024-11-25T15:00:00-05:00 & 2024-11-25T16:00:00-05:00 & 1 & 47 & F & $\\dots$ \\\\\n",
       "\t12 & 2024-11-25T16:00:00-05:00 & 2024-11-25T17:00:00-05:00 & 1 & 46 & F & $\\dots$ \\\\\n",
       "\t13 & 2024-11-25T17:00:00-05:00 & 2024-11-25T18:00:00-05:00 & 1 & 45 & F & $\\dots$ \\\\\n",
       "\t14 & 2024-11-25T18:00:00-05:00 & 2024-11-25T19:00:00-05:00 & 0 & 43 & F & $\\dots$ \\\\\n",
       "\t15 & 2024-11-25T19:00:00-05:00 & 2024-11-25T20:00:00-05:00 & 0 & 42 & F & $\\dots$ \\\\\n",
       "\t16 & 2024-11-25T20:00:00-05:00 & 2024-11-25T21:00:00-05:00 & 0 & 42 & F & $\\dots$ \\\\\n",
       "\t17 & 2024-11-25T21:00:00-05:00 & 2024-11-25T22:00:00-05:00 & 0 & 43 & F & $\\dots$ \\\\\n",
       "\t18 & 2024-11-25T22:00:00-05:00 & 2024-11-25T23:00:00-05:00 & 0 & 43 & F & $\\dots$ \\\\\n",
       "\t19 & 2024-11-25T23:00:00-05:00 & 2024-11-26T00:00:00-05:00 & 0 & 43 & F & $\\dots$ \\\\\n",
       "\t20 & 2024-11-26T00:00:00-05:00 & 2024-11-26T01:00:00-05:00 & 0 & 44 & F & $\\dots$ \\\\\n",
       "\t21 & 2024-11-26T01:00:00-05:00 & 2024-11-26T02:00:00-05:00 & 0 & 44 & F & $\\dots$ \\\\\n",
       "\t22 & 2024-11-26T02:00:00-05:00 & 2024-11-26T03:00:00-05:00 & 0 & 44 & F & $\\dots$ \\\\\n",
       "\t23 & 2024-11-26T03:00:00-05:00 & 2024-11-26T04:00:00-05:00 & 0 & 45 & F & $\\dots$ \\\\\n",
       "\t24 & 2024-11-26T04:00:00-05:00 & 2024-11-26T05:00:00-05:00 & 0 & 45 & F & $\\dots$ \\\\\n",
       "\t25 & 2024-11-26T05:00:00-05:00 & 2024-11-26T06:00:00-05:00 & 0 & 45 & F & $\\dots$ \\\\\n",
       "\t26 & 2024-11-26T06:00:00-05:00 & 2024-11-26T07:00:00-05:00 & 1 & 45 & F & $\\dots$ \\\\\n",
       "\t27 & 2024-11-26T07:00:00-05:00 & 2024-11-26T08:00:00-05:00 & 1 & 45 & F & $\\dots$ \\\\\n",
       "\t28 & 2024-11-26T08:00:00-05:00 & 2024-11-26T09:00:00-05:00 & 1 & 46 & F & $\\dots$ \\\\\n",
       "\t29 & 2024-11-26T09:00:00-05:00 & 2024-11-26T10:00:00-05:00 & 1 & 48 & F & $\\dots$ \\\\\n",
       "\t30 & 2024-11-26T10:00:00-05:00 & 2024-11-26T11:00:00-05:00 & 1 & 49 & F & $\\dots$ \\\\\n",
       "\t$\\dots$ & $\\dots$ & $\\dots$ & $\\dots$ & $\\dots$ & $\\dots$ &  \\\\\n",
       "\\end{tabular}\n"
      ],
      "text/plain": [
       "\u001b[1m156×8 DataFrame\u001b[0m\n",
       "\u001b[1m Row \u001b[0m│\u001b[1m startTime                 \u001b[0m\u001b[1m endTime                   \u001b[0m\u001b[1m isDayTime \u001b[0m\u001b[1m temper\u001b[0m ⋯\n",
       "     │\u001b[90m String                    \u001b[0m\u001b[90m String                    \u001b[0m\u001b[90m Bool      \u001b[0m\u001b[90m Int64 \u001b[0m ⋯\n",
       "─────┼──────────────────────────────────────────────────────────────────────────\n",
       "   1 │ 2024-11-25T05:00:00-05:00  2024-11-25T06:00:00-05:00      false         ⋯\n",
       "   2 │ 2024-11-25T06:00:00-05:00  2024-11-25T07:00:00-05:00       true\n",
       "   3 │ 2024-11-25T07:00:00-05:00  2024-11-25T08:00:00-05:00       true\n",
       "   4 │ 2024-11-25T08:00:00-05:00  2024-11-25T09:00:00-05:00       true\n",
       "   5 │ 2024-11-25T09:00:00-05:00  2024-11-25T10:00:00-05:00       true         ⋯\n",
       "   6 │ 2024-11-25T10:00:00-05:00  2024-11-25T11:00:00-05:00       true\n",
       "   7 │ 2024-11-25T11:00:00-05:00  2024-11-25T12:00:00-05:00       true\n",
       "   8 │ 2024-11-25T12:00:00-05:00  2024-11-25T13:00:00-05:00       true\n",
       "   9 │ 2024-11-25T13:00:00-05:00  2024-11-25T14:00:00-05:00       true         ⋯\n",
       "  10 │ 2024-11-25T14:00:00-05:00  2024-11-25T15:00:00-05:00       true\n",
       "  11 │ 2024-11-25T15:00:00-05:00  2024-11-25T16:00:00-05:00       true\n",
       "  ⋮  │             ⋮                          ⋮                  ⋮           ⋮ ⋱\n",
       " 147 │ 2024-12-01T07:00:00-05:00  2024-12-01T08:00:00-05:00       true\n",
       " 148 │ 2024-12-01T08:00:00-05:00  2024-12-01T09:00:00-05:00       true         ⋯\n",
       " 149 │ 2024-12-01T09:00:00-05:00  2024-12-01T10:00:00-05:00       true\n",
       " 150 │ 2024-12-01T10:00:00-05:00  2024-12-01T11:00:00-05:00       true\n",
       " 151 │ 2024-12-01T11:00:00-05:00  2024-12-01T12:00:00-05:00       true\n",
       " 152 │ 2024-12-01T12:00:00-05:00  2024-12-01T13:00:00-05:00       true         ⋯\n",
       " 153 │ 2024-12-01T13:00:00-05:00  2024-12-01T14:00:00-05:00       true\n",
       " 154 │ 2024-12-01T14:00:00-05:00  2024-12-01T15:00:00-05:00       true\n",
       " 155 │ 2024-12-01T15:00:00-05:00  2024-12-01T16:00:00-05:00       true\n",
       " 156 │ 2024-12-01T16:00:00-05:00  2024-12-01T17:00:00-05:00       true         ⋯\n",
       "\u001b[36m                                                  5 columns and 135 rows omitted\u001b[0m"
      ]
     },
     "execution_count": 19,
     "metadata": {},
     "output_type": "execute_result"
    }
   ],
   "source": [
    "result_forecast"
   ]
  }
 ],
 "metadata": {
  "kernelspec": {
   "display_name": "Julia 1.11.1",
   "language": "julia",
   "name": "julia-1.11"
  },
  "language_info": {
   "file_extension": ".jl",
   "mimetype": "application/julia",
   "name": "julia",
   "version": "1.11.1"
  }
 },
 "nbformat": 4,
 "nbformat_minor": 5
}
